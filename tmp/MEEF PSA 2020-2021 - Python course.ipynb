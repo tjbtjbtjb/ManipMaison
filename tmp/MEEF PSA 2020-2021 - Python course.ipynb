{
 "cells": [
  {
   "cell_type": "markdown",
   "metadata": {
    "slideshow": {
     "slide_type": "slide"
    }
   },
   "source": [
    "# MEEF PSA 2020-2021 \n",
    "\n",
    "<center>\n",
    "    <img src=\"https://physique.univ-paris-diderot.fr/sites/all/themes/diderot/logo.png\" height=\"300px\" alt=\"Logo Université Paris Diderot\" /> \n",
    "<img src=\"https://u-paris.fr/wp-content/uploads/2019/03/Universite_Paris_logo_horizontal.jpg\" height=300 alt=\"Logo Université de Paris\" />\n",
    "</center>\n",
    "\n",
    "---\n",
    "\n",
    "## Python introduction\n",
    "![python logo](https://www.python.org/static/img/python-logo.png \"Python\")"
   ]
  },
  {
   "cell_type": "markdown",
   "metadata": {
    "slideshow": {
     "slide_type": "slide"
    }
   },
   "source": [
    "## Why should I learn python ?\n",
    "![python powered](https://www.python.org/static/community_logos/python-powered-w-200x80.png)"
   ]
  },
  {
   "cell_type": "markdown",
   "metadata": {
    "slideshow": {
     "slide_type": "fragment"
    }
   },
   "source": [
    "* Because it's *cool* and because the logo if *fun*"
   ]
  },
  {
   "cell_type": "markdown",
   "metadata": {
    "slideshow": {
     "slide_type": "fragment"
    }
   },
   "source": [
    "* Because it's free and available for all platforms\n",
    "* Because it's an high level language, which can be read easily in english, and without use of strange syntax"
   ]
  },
  {
   "cell_type": "code",
   "execution_count": 1,
   "metadata": {},
   "outputs": [
    {
     "name": "stdout",
     "output_type": "stream",
     "text": [
      "green\n"
     ]
    }
   ],
   "source": [
    "import random\n",
    "def choose_color():\n",
    "    colors=['red','green','blue']\n",
    "    return random.choice(colors)\n",
    "\n",
    "my_color=choose_color()\n",
    "print(my_color)"
   ]
  },
  {
   "cell_type": "markdown",
   "metadata": {
    "slideshow": {
     "slide_type": "fragment"
    }
   },
   "source": [
    "* Because it's an interpreted language which can be launched in interactive mode\n",
    "* Because we can do science with it (numerous libraries)\n",
    "* Because it's now a very common standard"
   ]
  },
  {
   "cell_type": "markdown",
   "metadata": {
    "slideshow": {
     "slide_type": "subslide"
    }
   },
   "source": [
    "## Why should I learn python ? (cont.)\n",
    "* Because *I* have to !\n",
    "\n",
    "Extraits de programmes (sorry, in french !)"
   ]
  },
  {
   "cell_type": "markdown",
   "metadata": {
    "slideshow": {
     "slide_type": "subslide"
    }
   },
   "source": [
    "* Seconde, sciences numériques \n",
    "![](https://lpnhe.in2p3.fr/spip.php?action=acceder_document&arg=3173&cle=c2cbbf205001bd52a7019e47788e17851f47fce1&file=png%2F2nde_ens_num.png)"
   ]
  },
  {
   "cell_type": "markdown",
   "metadata": {
    "slideshow": {
     "slide_type": "subslide"
    }
   },
   "source": [
    "* Seconde, physique chimie\n",
    "\n",
    "![](https://lpnhe.in2p3.fr/spip.php?action=acceder_document&arg=3174&cle=53af2f774d63f225ed0eb6273d3248226a141870&file=png%2F2nde_pc_1.png)\n",
    "\n",
    "![](https://lpnhe.in2p3.fr/spip.php?action=acceder_document&arg=3175&cle=8436c1f91ce50dd68091adc3eb290eba654b254f&file=png%2F2nde_pc_2.png)"
   ]
  },
  {
   "cell_type": "markdown",
   "metadata": {
    "slideshow": {
     "slide_type": "subslide"
    }
   },
   "source": [
    "* Première, enseignement scientifique\n",
    "\n",
    "![](https://lpnhe.in2p3.fr/spip.php?action=acceder_document&arg=3171&cle=18b02b25d4b2827e44fdbd6be6f6543e472f5bcc&file=png%2F1ere_ens_sci_1.png)\n",
    "\n",
    "---\n",
    "\n",
    "![](https://lpnhe.in2p3.fr/spip.php?action=acceder_document&arg=3172&cle=db47779325745ce488692cb6c9f28ce76f7624e4&file=png%2F1ere_ens_sci_2.png)"
   ]
  },
  {
   "cell_type": "markdown",
   "metadata": {
    "slideshow": {
     "slide_type": "slide"
    }
   },
   "source": [
    "## Where and how to use python ? 1/2"
   ]
  },
  {
   "cell_type": "markdown",
   "metadata": {
    "slideshow": {
     "slide_type": "fragment"
    }
   },
   "source": [
    "### Through a notebook interface on a cloud\n",
    "Pros : \n",
    "* nothing to install\n",
    "* ease of use\n",
    "* everything on the cloud\n",
    "* web-based tool, meaning not at all platform dependent\n",
    "* no matter about the updates\n",
    "\n",
    "Cons : \n",
    "* unavailable offline\n",
    "* difficult to interact with local hardware\n",
    "\n",
    "Where ?\n",
    "* Here at university : http://jupy.physique.univ-paris-diderot.fr\n",
    "* Elsewhere, e.g. https://notebooks.ai/"
   ]
  },
  {
   "cell_type": "markdown",
   "metadata": {
    "slideshow": {
     "slide_type": "subslide"
    }
   },
   "source": [
    "## Where and how to use python ? 2/2\n",
    "### On a local machine\n",
    "Pros : \n",
    "* always available whatever the network is\n",
    "* you manage the version\n",
    "* interaction with hardware possible\n",
    "\n",
    "Cons :\n",
    "* have to do the install / updates\n",
    "* not available in a cloud\n",
    "\n",
    "What version :\n",
    "* Python 3 (python 2 won't be maintained in few weeks)\n",
    "* You may install `spyder` or `anaconda` (which comes with `spyder`, `iPython`, `SciPy`…)"
   ]
  },
  {
   "cell_type": "markdown",
   "metadata": {
    "slideshow": {
     "slide_type": "slide"
    }
   },
   "source": [
    "## Very brief introduction of simple use of interactive mode\n",
    "\n",
    "Language reference : https://docs.python.org/3/"
   ]
  },
  {
   "cell_type": "markdown",
   "metadata": {
    "slideshow": {
     "slide_type": "fragment"
    }
   },
   "source": [
    "### Make a simple computation"
   ]
  },
  {
   "cell_type": "code",
   "execution_count": 2,
   "metadata": {},
   "outputs": [
    {
     "data": {
      "text/plain": [
       "6"
      ]
     },
     "execution_count": 2,
     "metadata": {},
     "output_type": "execute_result"
    }
   ],
   "source": [
    "1+2+3"
   ]
  },
  {
   "cell_type": "markdown",
   "metadata": {},
   "source": [
    "But…"
   ]
  },
  {
   "cell_type": "code",
   "execution_count": 3,
   "metadata": {
    "slideshow": {
     "slide_type": "fragment"
    }
   },
   "outputs": [
    {
     "ename": "NameError",
     "evalue": "name 'sin' is not defined",
     "output_type": "error",
     "traceback": [
      "\u001b[0;31m---------------------------------------------------------------------------\u001b[0m",
      "\u001b[0;31mNameError\u001b[0m                                 Traceback (most recent call last)",
      "\u001b[0;32m<ipython-input-3-7ec80c2057e2>\u001b[0m in \u001b[0;36m<module>\u001b[0;34m()\u001b[0m\n\u001b[0;32m----> 1\u001b[0;31m \u001b[0msin\u001b[0m\u001b[0;34m(\u001b[0m\u001b[0mpi\u001b[0m\u001b[0;34m/\u001b[0m\u001b[0;36m2\u001b[0m\u001b[0;34m)\u001b[0m\u001b[0;34m\u001b[0m\u001b[0;34m\u001b[0m\u001b[0m\n\u001b[0m",
      "\u001b[0;31mNameError\u001b[0m: name 'sin' is not defined"
     ]
    }
   ],
   "source": [
    "sin(pi/2)"
   ]
  },
  {
   "cell_type": "markdown",
   "metadata": {
    "slideshow": {
     "slide_type": "subslide"
    }
   },
   "source": [
    "You need to use the `math` module :"
   ]
  },
  {
   "cell_type": "code",
   "execution_count": 4,
   "metadata": {
    "slideshow": {
     "slide_type": "fragment"
    }
   },
   "outputs": [
    {
     "data": {
      "text/plain": [
       "1.0"
      ]
     },
     "execution_count": 4,
     "metadata": {},
     "output_type": "execute_result"
    }
   ],
   "source": [
    "import math \n",
    "math.sin(math.pi/2)"
   ]
  },
  {
   "cell_type": "markdown",
   "metadata": {
    "slideshow": {
     "slide_type": "subslide"
    }
   },
   "source": [
    "If you don't want to write each time `math.` at begining :"
   ]
  },
  {
   "cell_type": "code",
   "execution_count": 5,
   "metadata": {},
   "outputs": [
    {
     "data": {
      "text/plain": [
       "1.0"
      ]
     },
     "execution_count": 5,
     "metadata": {},
     "output_type": "execute_result"
    }
   ],
   "source": [
    "import math as m\n",
    "m.sin(m.pi/2)"
   ]
  },
  {
   "cell_type": "markdown",
   "metadata": {
    "slideshow": {
     "slide_type": "fragment"
    }
   },
   "source": [
    "or (dangerous way because some modules may have same variable/function names)"
   ]
  },
  {
   "cell_type": "code",
   "execution_count": 6,
   "metadata": {},
   "outputs": [
    {
     "data": {
      "text/plain": [
       "1.0"
      ]
     },
     "execution_count": 6,
     "metadata": {},
     "output_type": "execute_result"
    }
   ],
   "source": [
    "# would be better to avoid this method\n",
    "# please note that you can add a comment adding a dash at the beg of a line\n",
    "from math import *\n",
    "sin(pi/2)"
   ]
  },
  {
   "cell_type": "markdown",
   "metadata": {
    "slideshow": {
     "slide_type": "subslide"
    }
   },
   "source": [
    "### Some of available types\n",
    "you can either let python choose default type of force one."
   ]
  },
  {
   "cell_type": "code",
   "execution_count": 7,
   "metadata": {},
   "outputs": [
    {
     "name": "stdout",
     "output_type": "stream",
     "text": [
      "2\n",
      "<class 'int'>\n",
      "12.34\n",
      "<class 'float'>\n",
      "3.0\n",
      "<class 'float'>\n",
      "[0, 1, 2]\n",
      "<class 'list'>\n",
      "hi everybody !\n",
      "<class 'str'>\n"
     ]
    }
   ],
   "source": [
    "a=2\n",
    "print(a)\n",
    "print(type(a))\n",
    "\n",
    "b=12.34\n",
    "print(b)\n",
    "print(type(b))\n",
    "\n",
    "c=float(3)\n",
    "print(c)\n",
    "print(type(c))\n",
    "\n",
    "x=[0,1,2]\n",
    "print(x)\n",
    "print(type(x))\n",
    "\n",
    "s=\"hi everybody !\"\n",
    "print(s)\n",
    "print(type(s))"
   ]
  },
  {
   "cell_type": "markdown",
   "metadata": {
    "slideshow": {
     "slide_type": "subslide"
    }
   },
   "source": [
    "### Operators\n",
    "Their action is dependant of the type of the variable"
   ]
  },
  {
   "cell_type": "code",
   "execution_count": 8,
   "metadata": {},
   "outputs": [
    {
     "name": "stdout",
     "output_type": "stream",
     "text": [
      "3\n",
      "hello world\n"
     ]
    }
   ],
   "source": [
    "# addition with + for integers\n",
    "a=1\n",
    "b=2\n",
    "print(a+b)\n",
    "\n",
    "#concatenation with + for strings\n",
    "s1=\"hello \"\n",
    "s2=\"world\"\n",
    "print(s1+s2)"
   ]
  },
  {
   "cell_type": "markdown",
   "metadata": {},
   "source": [
    "Operator references : see https://docs.python.org/3/library/operator.html"
   ]
  },
  {
   "cell_type": "markdown",
   "metadata": {
    "slideshow": {
     "slide_type": "subslide"
    }
   },
   "source": [
    "### Lists, simple loop and controle structures"
   ]
  },
  {
   "cell_type": "code",
   "execution_count": 9,
   "metadata": {},
   "outputs": [
    {
     "name": "stdout",
     "output_type": "stream",
     "text": [
      "[1, 2, 3, 4, 5, 6, 7, 8]\n"
     ]
    }
   ],
   "source": [
    "a=[1,2,3,4]\n",
    "b=[5,6,7,8]\n",
    "print(a+b)"
   ]
  },
  {
   "cell_type": "code",
   "execution_count": 10,
   "metadata": {},
   "outputs": [
    {
     "name": "stdout",
     "output_type": "stream",
     "text": [
      "3\n",
      "4\n",
      "5\n",
      "6\n"
     ]
    }
   ],
   "source": [
    "for x in a:\n",
    "    print(x+2) # yes there is an indent here. Required for block of commands"
   ]
  },
  {
   "cell_type": "markdown",
   "metadata": {
    "slideshow": {
     "slide_type": "fragment"
    }
   },
   "source": [
    "You can create inhomogenous lists"
   ]
  },
  {
   "cell_type": "code",
   "execution_count": 11,
   "metadata": {},
   "outputs": [
    {
     "name": "stdout",
     "output_type": "stream",
     "text": [
      "[0, True, 3.4, 'pi', [5, 6]]\n",
      "<class 'list'>\n"
     ]
    }
   ],
   "source": [
    "z=[0,True,3.4,\"pi\",[5,6]]\n",
    "print(z)\n",
    "print(type(z))"
   ]
  },
  {
   "cell_type": "markdown",
   "metadata": {
    "slideshow": {
     "slide_type": "subslide"
    }
   },
   "source": [
    "To access a specific element, specify the index, begining at 0."
   ]
  },
  {
   "cell_type": "code",
   "execution_count": 12,
   "metadata": {},
   "outputs": [
    {
     "name": "stdout",
     "output_type": "stream",
     "text": [
      "0\n",
      "pi\n",
      "[5, 6]\n"
     ]
    }
   ],
   "source": [
    "print(z[0])\n",
    "print(z[3])\n",
    "print(z[-1]) # means last element"
   ]
  },
  {
   "cell_type": "markdown",
   "metadata": {
    "slideshow": {
     "slide_type": "fragment"
    }
   },
   "source": [
    "But you cannot actually do science computation with simple lists…"
   ]
  },
  {
   "cell_type": "code",
   "execution_count": 13,
   "metadata": {},
   "outputs": [
    {
     "ename": "TypeError",
     "evalue": "can only concatenate list (not \"int\") to list",
     "output_type": "error",
     "traceback": [
      "\u001b[0;31m---------------------------------------------------------------------------\u001b[0m",
      "\u001b[0;31mTypeError\u001b[0m                                 Traceback (most recent call last)",
      "\u001b[0;32m<ipython-input-13-9a3f465da35e>\u001b[0m in \u001b[0;36m<module>\u001b[0;34m()\u001b[0m\n\u001b[1;32m      1\u001b[0m \u001b[0mx\u001b[0m\u001b[0;34m=\u001b[0m\u001b[0;34m[\u001b[0m\u001b[0;36m1\u001b[0m\u001b[0;34m,\u001b[0m\u001b[0;36m2\u001b[0m\u001b[0;34m,\u001b[0m\u001b[0;36m3\u001b[0m\u001b[0;34m]\u001b[0m\u001b[0;34m\u001b[0m\u001b[0;34m\u001b[0m\u001b[0m\n\u001b[0;32m----> 2\u001b[0;31m \u001b[0mprint\u001b[0m\u001b[0;34m(\u001b[0m\u001b[0;36m2\u001b[0m\u001b[0;34m*\u001b[0m\u001b[0mx\u001b[0m\u001b[0;34m+\u001b[0m\u001b[0;36m3\u001b[0m\u001b[0;34m)\u001b[0m\u001b[0;34m\u001b[0m\u001b[0;34m\u001b[0m\u001b[0m\n\u001b[0m",
      "\u001b[0;31mTypeError\u001b[0m: can only concatenate list (not \"int\") to list"
     ]
    }
   ],
   "source": [
    "x=[1,2,3]\n",
    "print(2*x+3)"
   ]
  },
  {
   "cell_type": "markdown",
   "metadata": {
    "slideshow": {
     "slide_type": "subslide"
    }
   },
   "source": [
    "To learn more on the language, particularly on control structure (use of `for`, `if`, `while`, ...), please refer to the documentation.\n",
    "\n",
    "https://docs.python.org/3/tutorial/controlflow.html?highlight=loop#\n",
    "\n",
    "Example with the Eratosthene algorithm."
   ]
  },
  {
   "cell_type": "code",
   "execution_count": 14,
   "metadata": {
    "slideshow": {
     "slide_type": "fragment"
    }
   },
   "outputs": [
    {
     "data": {
      "text/plain": [
       "[2, 3, 5, 7, 11, 13, 17, 19, 23, 29, 31, 37, 41, 43, 47]"
      ]
     },
     "execution_count": 14,
     "metadata": {},
     "output_type": "execute_result"
    }
   ],
   "source": [
    "def eratosthene(n):\n",
    "    n += 1\n",
    "    p = [0,0] + [i for i in range(2, n)]\n",
    "    for i in range(2, n):\n",
    "        if p[i] != 0:\n",
    "            for j in range(i*2, n, i):\n",
    "                p[j] = 0\n",
    "    return [v for v in p if v!=0]    \n",
    "\n",
    "eratosthene(50)"
   ]
  },
  {
   "cell_type": "code",
   "execution_count": 15,
   "metadata": {
    "slideshow": {
     "slide_type": "skip"
    }
   },
   "outputs": [
    {
     "data": {
      "text/plain": [
       "[0, 1, 2, 3, 4, 5, 6, 7, 8, 9]"
      ]
     },
     "execution_count": 15,
     "metadata": {},
     "output_type": "execute_result"
    }
   ],
   "source": [
    "list(range(10))"
   ]
  },
  {
   "cell_type": "markdown",
   "metadata": {
    "slideshow": {
     "slide_type": "slide"
    }
   },
   "source": [
    "## Scientific packages\n",
    "\n",
    "![](https://www.scipy.org/_static/images/numpylogo_med.png) Numpy\n",
    "![](https://www.scipy.org/_static/images/scipy_med.png) Scipy\n",
    "![](https://www.scipy.org/_static/images/matplotlib_med.png) MatplotLib\n",
    "\n",
    "Reference : https://www.scipy.org/\n",
    "\n",
    "Let's see some practical examples."
   ]
  },
  {
   "cell_type": "markdown",
   "metadata": {
    "slideshow": {
     "slide_type": "subslide"
    }
   },
   "source": [
    "### Computation with (NumPy) arrays\n",
    "Remember"
   ]
  },
  {
   "cell_type": "code",
   "execution_count": 16,
   "metadata": {},
   "outputs": [
    {
     "name": "stdout",
     "output_type": "stream",
     "text": [
      "[1, 2, 3, 4, 5, 6, 7, 8]\n"
     ]
    }
   ],
   "source": [
    "a=[1,2,3,4]\n",
    "b=[5,6,7,8]\n",
    "print(a+b)"
   ]
  },
  {
   "cell_type": "markdown",
   "metadata": {
    "slideshow": {
     "slide_type": "fragment"
    }
   },
   "source": [
    "But…"
   ]
  },
  {
   "cell_type": "code",
   "execution_count": 17,
   "metadata": {},
   "outputs": [
    {
     "name": "stdout",
     "output_type": "stream",
     "text": [
      "<class 'numpy.ndarray'>\n",
      "[ 6  8 10 12]\n"
     ]
    }
   ],
   "source": [
    "import numpy as np\n",
    "x=np.array(a)\n",
    "y=np.array(b)\n",
    "z=np.add(x,y)\n",
    "print(type(z))\n",
    "print(z)"
   ]
  },
  {
   "cell_type": "markdown",
   "metadata": {
    "slideshow": {
     "slide_type": "subslide"
    }
   },
   "source": [
    "Create and use a range array : "
   ]
  },
  {
   "cell_type": "code",
   "execution_count": 18,
   "metadata": {},
   "outputs": [
    {
     "name": "stdout",
     "output_type": "stream",
     "text": [
      "[-1.         -0.99500417 -0.98006658 -0.95533649 -0.92106099 -0.87758256\n",
      " -0.82533561 -0.76484219 -0.69670671 -0.62160997 -0.54030231 -0.45359612\n",
      " -0.36235775 -0.26749883 -0.16996714 -0.0707372   0.02919952  0.12884449\n",
      "  0.22720209  0.32328957  0.41614684  0.5048461   0.58850112  0.66627602\n",
      "  0.73739372  0.80114362  0.85688875  0.90407214  0.94222234  0.97095817\n",
      "  0.9899925   0.99913515  0.99829478  0.98747977  0.96679819  0.93645669\n",
      "  0.89675842  0.84810003  0.79096771  0.7259323   0.65364362  0.57482395\n",
      "  0.49026082  0.40079917  0.30733287  0.2107958   0.11215253  0.01238866\n",
      " -0.08749898 -0.18651237 -0.28366219 -0.37797774 -0.46851667 -0.55437434\n",
      " -0.63469288 -0.70866977 -0.77556588 -0.83471278 -0.88551952 -0.92747843\n",
      " -0.96017029 -0.98326844 -0.9965421 ]\n"
     ]
    }
   ],
   "source": [
    "theta=np.arange(-m.pi,m.pi,0.1)\n",
    "y=np.cos(theta)\n",
    "print(y)"
   ]
  },
  {
   "cell_type": "markdown",
   "metadata": {
    "slideshow": {
     "slide_type": "fragment"
    }
   },
   "source": [
    "Create an array between two floats with N values"
   ]
  },
  {
   "cell_type": "code",
   "execution_count": 19,
   "metadata": {},
   "outputs": [
    {
     "name": "stdout",
     "output_type": "stream",
     "text": [
      "[-2.  -1.5 -1.  -0.5  0.   0.5  1.   1.5  2.   2.5  3.   3.5  4.   4.5\n",
      "  5.   5.5  6.   6.5  7.   7.5  8.   8.5  9.   9.5 10. ]\n"
     ]
    }
   ],
   "source": [
    "z=np.linspace(-2,10,25)\n",
    "print(z)"
   ]
  },
  {
   "cell_type": "markdown",
   "metadata": {
    "slideshow": {
     "slide_type": "subslide"
    }
   },
   "source": [
    "Create random array :"
   ]
  },
  {
   "cell_type": "code",
   "execution_count": 20,
   "metadata": {},
   "outputs": [
    {
     "name": "stdout",
     "output_type": "stream",
     "text": [
      "[0.79335839 0.05547304 0.48083334 0.73277731 0.33022379 0.30885597\n",
      " 0.04089844 0.85754228 0.70169917 0.47395227 0.15180327 0.3908999\n",
      " 0.86080154 0.04865158 0.83195525 0.04184472 0.214995   0.69436615\n",
      " 0.11182689 0.05746305 0.80655824 0.22062043 0.87732337 0.47205212\n",
      " 0.35984012 0.29555541 0.55456105 0.91072916 0.13642833 0.50337858\n",
      " 0.03966334 0.33159254 0.5957209  0.53362926 0.96232713 0.47999366\n",
      " 0.27060102 0.94994417 0.42639559 0.54522448 0.34273654 0.53491233\n",
      " 0.61329721 0.60287193 0.00986923 0.17984335 0.1649451  0.44220716\n",
      " 0.00208814 0.37243283]\n"
     ]
    }
   ],
   "source": [
    "flat_noise=np.random.random(50)\n",
    "print(flat_noise)"
   ]
  },
  {
   "cell_type": "markdown",
   "metadata": {
    "slideshow": {
     "slide_type": "slide"
    }
   },
   "source": [
    "### Plots with MatplotLib"
   ]
  },
  {
   "cell_type": "code",
   "execution_count": 62,
   "metadata": {
    "slideshow": {
     "slide_type": "skip"
    }
   },
   "outputs": [],
   "source": [
    "%matplotlib inline"
   ]
  },
  {
   "cell_type": "code",
   "execution_count": 63,
   "metadata": {},
   "outputs": [
    {
     "data": {
      "image/png": "[encoded data removed]",
      "text/plain": [
       "<Figure size 432x288 with 1 Axes>"
      ]
     },
     "metadata": {
      "needs_background": "light"
     },
     "output_type": "display_data"
    }
   ],
   "source": [
    "import numpy as np\n",
    "import matplotlib.pyplot as plt\n",
    "import math as m\n",
    "x=np.arange(-2*m.pi,2*m.pi,0.1)\n",
    "y=np.cos(x)\n",
    "y_noise=0.1*np.random.randn(y.size) # normal distribution of noise\n",
    "plt.plot(x,y+y_noise)\n",
    "plt.grid()"
   ]
  },
  {
   "cell_type": "markdown",
   "metadata": {
    "slideshow": {
     "slide_type": "subslide"
    }
   },
   "source": [
    "In order to interact with the graph (zoom, move, save figure), you have to run a specific MatplotLib command"
   ]
  },
  {
   "cell_type": "code",
   "execution_count": 67,
   "metadata": {},
   "outputs": [],
   "source": [
    "%matplotlib widget"
   ]
  },
  {
   "cell_type": "code",
   "execution_count": 70,
   "metadata": {},
   "outputs": [
    {
     "data": {
      "image/png": "[encoded data removed]",
      "text/plain": [
       "<Figure size 432x288 with 1 Axes>"
      ]
     },
     "metadata": {
      "needs_background": "light"
     },
     "output_type": "display_data"
    }
   ],
   "source": [
    "# You have to try this in the notebook directly...\n",
    "plt.plot(x,y+y_noise)\n",
    "plt.grid()"
   ]
  },
  {
   "cell_type": "code",
   "execution_count": 71,
   "metadata": {
    "slideshow": {
     "slide_type": "skip"
    }
   },
   "outputs": [],
   "source": [
    "%matplotlib inline"
   ]
  },
  {
   "cell_type": "markdown",
   "metadata": {
    "slideshow": {
     "slide_type": "slide"
    }
   },
   "source": [
    "### Fitting"
   ]
  },
  {
   "cell_type": "markdown",
   "metadata": {},
   "source": [
    "#### Linear fit with SciPy\n",
    "But you cannot get easily the error on fitted parameters."
   ]
  },
  {
   "cell_type": "code",
   "execution_count": 42,
   "metadata": {},
   "outputs": [
    {
     "name": "stdout",
     "output_type": "stream",
     "text": [
      "(-1.8059004425056537, 2.789544675760098)\n"
     ]
    },
    {
     "data": {
      "image/png": "[encoded data removed]",
      "text/plain": [
       "<Figure size 432x288 with 1 Axes>"
      ]
     },
     "metadata": {
      "needs_background": "light"
     },
     "output_type": "display_data"
    }
   ],
   "source": [
    "from scipy import stats\n",
    "x=np.arange(0,1,0.1)\n",
    "dx=0.02\n",
    "dy=0.3\n",
    "y=-2*x+3+np.random.normal(0,dy,x.size)\n",
    "r = stats.linregress(x,y)\n",
    "mn=np.min(x)\n",
    "mx=np.max(x)\n",
    "x1=np.linspace(mn,mx,500)\n",
    "y1=r.slope*x1+r.intercept\n",
    "plt.errorbar(x,y,xerr=dx,yerr=dy,fmt='o',label='data')\n",
    "plt.plot(x1,y1,'-r',label='fit')\n",
    "plt.legend()\n",
    "plt.grid()\n",
    "print((r.slope,r.intercept))"
   ]
  },
  {
   "cell_type": "markdown",
   "metadata": {
    "slideshow": {
     "slide_type": "subslide"
    }
   },
   "source": [
    "#### Linear fit with fitutils"
   ]
  },
  {
   "cell_type": "markdown",
   "metadata": {},
   "source": [
    "Caution : `fitutils` is not a standard tool but it is available on your prefered jupyter server. If you're looking for this module, you will find it on the `jupyter` server at `/home/libs/`.\n",
    "\n",
    "This module is a (brand new) version of the `linfitxy` MatlabⓇ tool available at https://github.com/tjbtjbtjb/linfitxy.\n",
    "Because this python version is quite new, it may still include some issues…\n",
    "\n",
    "Main advantage of that tool : it deals with both errors on `Y` axis *and* `X` axis, whereas most tools (all tools ?) don't."
   ]
  },
  {
   "cell_type": "code",
   "execution_count": 43,
   "metadata": {
    "slideshow": {
     "slide_type": "fragment"
    }
   },
   "outputs": [
    {
     "data": {
      "image/png": "[encoded data removed]",
      "text/plain": [
       "<Figure size 432x288 with 1 Axes>"
      ]
     },
     "metadata": {
      "needs_background": "light"
     },
     "output_type": "display_data"
    }
   ],
   "source": [
    "import sys\n",
    "import fitutils as fu\n",
    "dx=np.ones(x.size)*dx\n",
    "dy=np.ones(y.size)*dy\n",
    "fu.linfitxy(x,y,dx,dy)\n",
    "plt.grid()"
   ]
  },
  {
   "cell_type": "code",
   "execution_count": 44,
   "metadata": {
    "slideshow": {
     "slide_type": "skip"
    }
   },
   "outputs": [
    {
     "name": "stdout",
     "output_type": "stream",
     "text": [
      "[-1.80590044  2.78954468] [0.3310403  0.17672716]\n"
     ]
    }
   ],
   "source": [
    "# And with curve_fit (without yerr), just for testing…\n",
    "\n",
    "def linear(x,a,b):\n",
    "    return a*x+b\n",
    "\n",
    "from scipy import optimize\n",
    "p,c=optimize.curve_fit(linear,x,y)\n",
    "err=np.zeros(np.size(p))\n",
    "for i in range(np.size(p)):\n",
    "    err[i]=m.sqrt(c[i][i])\n",
    "print(p,err)"
   ]
  },
  {
   "cell_type": "markdown",
   "metadata": {
    "slideshow": {
     "slide_type": "subslide"
    }
   },
   "source": [
    "#### Non linear fit\n",
    "Can be done either with `polyfit` (for polynoms) or `curvefit` (whatever the function is). \n",
    "One should prefer this `curvefit` because on can easily get errors on fitted parameters. See below."
   ]
  },
  {
   "cell_type": "code",
   "execution_count": 45,
   "metadata": {},
   "outputs": [
    {
     "name": "stdout",
     "output_type": "stream",
     "text": [
      "[-1.88025615  2.61769821 59.97054824]\n",
      "[  0.79691196   3.15539709 500.77476585] [ 0.20553487  0.23351125 28.11189504]\n"
     ]
    }
   ],
   "source": [
    "def f1(x,a,b,c):\n",
    "    return a*x**2+b*x+c\n",
    "\n",
    "N=15\n",
    "x_exp=np.random.random(N)*10-5   # Get random x between -5 and +5\n",
    "y=f1(x_exp,-2,3,60)         # Compute y\n",
    "dy=np.random.randn(N)*5         # Some noise\n",
    "y_exp=y+dy                       # Let's assume those are experimental data\n",
    "\n",
    "# Fitting with polyfit \n",
    "p=np.polyfit(x_exp,y_exp,2)   # Fit with numpy.polyfit\n",
    "print(p)\n",
    "\n",
    "# Fitting with curvefit, try to fit a normal\n",
    "from scipy import optimize\n",
    "from scipy.stats import norm\n",
    "def f2(x,m,s,n): \n",
    "    return n*norm.pdf(x,m,s)\n",
    "\n",
    "param,cov=optimize.curve_fit(f2,x_exp,y_exp,p0=[0,1,10],sigma=np.ones(N)*5)\n",
    "err=np.zeros(np.size(param))\n",
    "for i in range(np.size(param)):\n",
    "    err[i]=m.sqrt(cov[i][i])\n",
    "print(param,err)"
   ]
  },
  {
   "cell_type": "code",
   "execution_count": 48,
   "metadata": {
    "slideshow": {
     "slide_type": "subslide"
    }
   },
   "outputs": [
    {
     "data": {
      "text/plain": [
       "<matplotlib.legend.Legend at 0x7fca8d826f28>"
      ]
     },
     "execution_count": 48,
     "metadata": {},
     "output_type": "execute_result"
    },
    {
     "data": {
      "image/png": "[encoded data removed]",
      "text/plain": [
       "<Figure size 432x288 with 1 Axes>"
      ]
     },
     "metadata": {
      "needs_background": "light"
     },
     "output_type": "display_data"
    }
   ],
   "source": [
    "plt.errorbar(x_exp,y_exp,yerr=5,fmt='*',label='data')\n",
    "x=np.arange(-5.5,5.5,0.05)\n",
    "plt.plot(x,f1(x,p[0],p[1],p[2]),'r',label='polyfit 2nd deg')\n",
    "plt.plot(x,f2(x,param[0],param[1],param[2]),'g',label='normal curvefit')\n",
    "plt.grid()\n",
    "plt.legend()"
   ]
  },
  {
   "cell_type": "markdown",
   "metadata": {
    "slideshow": {
     "slide_type": "slide"
    }
   },
   "source": [
    "### Now some basic statistics"
   ]
  },
  {
   "cell_type": "code",
   "execution_count": 49,
   "metadata": {
    "slideshow": {
     "slide_type": "fragment"
    }
   },
   "outputs": [
    {
     "name": "stdout",
     "output_type": "stream",
     "text": [
      "1.0802972213925606 -3.004597207028447 -2.9593235598008825\n"
     ]
    },
    {
     "data": {
      "image/png": "[encoded data removed]",
      "text/plain": [
       "<Figure size 432x288 with 1 Axes>"
      ]
     },
     "metadata": {
      "needs_background": "light"
     },
     "output_type": "display_data"
    }
   ],
   "source": [
    "import numpy as np\n",
    "x=np.random.normal(-3,1,250)\n",
    "plt.plot(x)\n",
    "s=np.std(x)\n",
    "m=np.mean(x)\n",
    "m2=np.median(x)\n",
    "print(s,m,m2)"
   ]
  },
  {
   "cell_type": "markdown",
   "metadata": {
    "slideshow": {
     "slide_type": "subslide"
    }
   },
   "source": [
    "### Histogramming"
   ]
  },
  {
   "cell_type": "code",
   "execution_count": 50,
   "metadata": {},
   "outputs": [
    {
     "data": {
      "image/png": "[encoded data removed]",
      "text/plain": [
       "<Figure size 432x288 with 1 Axes>"
      ]
     },
     "metadata": {
      "needs_background": "light"
     },
     "output_type": "display_data"
    }
   ],
   "source": [
    "histo,edges,z=plt.hist(x,12)"
   ]
  },
  {
   "cell_type": "markdown",
   "metadata": {
    "slideshow": {
     "slide_type": "slide"
    }
   },
   "source": [
    "## Still various things in python…"
   ]
  },
  {
   "cell_type": "markdown",
   "metadata": {
    "slideshow": {
     "slide_type": "fragment"
    }
   },
   "source": [
    "### Read a text file"
   ]
  },
  {
   "cell_type": "code",
   "execution_count": 2,
   "metadata": {},
   "outputs": [
    {
     "data": {
      "image/png": "[encoded data removed]",
      "text/plain": [
       "<Figure size 432x288 with 1 Axes>"
      ]
     },
     "metadata": {
      "needs_background": "light"
     },
     "output_type": "display_data"
    }
   ],
   "source": [
    "import matplotlib.pyplot as plt\n",
    "with open('file1.txt', 'r') as f:\n",
    "    lines = f.readlines()\n",
    "    x = [float(line.split()[0]) for line in lines]\n",
    "    y = [float(line.split()[1]) for line in lines]\n",
    "plt.plot(x ,y,'.')\n",
    "plt.show()"
   ]
  },
  {
   "cell_type": "markdown",
   "metadata": {
    "slideshow": {
     "slide_type": "subslide"
    }
   },
   "source": [
    "### Interaction\n",
    "*This has to be tested in a notebook, it does not work under slide mode*"
   ]
  },
  {
   "cell_type": "code",
   "execution_count": 1,
   "metadata": {
    "slideshow": {
     "slide_type": "-"
    }
   },
   "outputs": [
    {
     "data": {
      "application/vnd.jupyter.widget-view+json": {
       "model_id": "e653bb667bda486383ead09fc7b41cb0",
       "version_major": 2,
       "version_minor": 0
      },
      "text/plain": [
       "interactive(children=(FloatSlider(value=1.0, description='nx', max=2.0), FloatSlider(value=1.0, description='n…"
      ]
     },
     "metadata": {},
     "output_type": "display_data"
    },
    {
     "data": {
      "text/plain": [
       "<function __main__.f>"
      ]
     },
     "execution_count": 1,
     "metadata": {},
     "output_type": "execute_result"
    }
   ],
   "source": [
    "from ipywidgets import interact\n",
    "import numpy as np\n",
    "import matplotlib.pyplot as plt\n",
    "import matplotlib.axes as ax\n",
    "import math as m\n",
    "\n",
    "def f(nx,ny,wx,wy,phi):\n",
    "    t=np.linspace(0,m.pi*4,500)\n",
    "    x=nx*np.cos(t*wx)\n",
    "    y=ny*np.cos(t*wy+phi)\n",
    "    plt.plot(x,y)\n",
    "    plt.ylim((-2,2))\n",
    "    plt.xlim((-2,2))\n",
    "    plt.grid(True)\n",
    "    \n",
    "interact(f,nx=(0,2,0.1),ny=(0,2,0.1),wx=(0,6,0.5),wy=(0,6,0.5),phi=(-m.pi,m.pi,0.1))"
   ]
  },
  {
   "cell_type": "markdown",
   "metadata": {
    "slideshow": {
     "slide_type": "subslide"
    }
   },
   "source": [
    "## Communication\n",
    "Caution : should be launched locally, not in a notebook"
   ]
  },
  {
   "cell_type": "code",
   "execution_count": null,
   "metadata": {},
   "outputs": [],
   "source": [
    "# Assume that arduino has the L/H Builtin LED program uploaded\n",
    "import serial\n",
    "s=serial.Serial('/dev/ttyACM0','9600') # One should change the path of the com port according to the actual machine\n",
    "s.write(b'L')\n",
    "s.write(b'H')"
   ]
  },
  {
   "cell_type": "markdown",
   "metadata": {
    "slideshow": {
     "slide_type": "slide"
    }
   },
   "source": [
    "# And now ?\n",
    "\n",
    "Let's play with python, and please refer to the documentation, tutorial, examples, read them, modify them. \n",
    "\n",
    "![](https://s2.qwant.com/thumbr/0x380/d/7/ad85e5a8111588067821cc67c73f299e13c50db58d9409fab1c7bfeaff1e89/1024px-Python-logo-notext.svg.png?u=https%3A%2F%2Fupload.wikimedia.org%2Fwikipedia%2Fcommons%2Fthumb%2Fc%2Fc3%2FPython-logo-notext.svg%2F1024px-Python-logo-notext.svg.png&q=0&b=1&p=0&a=1)"
   ]
  }
 ],
 "metadata": {
  "kernelspec": {
   "display_name": "Python 3",
   "language": "python",
   "name": "python3"
  },
  "language_info": {
   "codemirror_mode": {
    "name": "ipython",
    "version": 3
   },
   "file_extension": ".py",
   "mimetype": "text/x-python",
   "name": "python",
   "nbconvert_exporter": "python",
   "pygments_lexer": "ipython3",
   "version": "3.8.2"
  }
 },
 "nbformat": 4,
 "nbformat_minor": 4
}
