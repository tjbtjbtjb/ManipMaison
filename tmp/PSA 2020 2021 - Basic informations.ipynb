{
 "cells": [
  {
   "cell_type": "markdown",
   "metadata": {
    "slideshow": {
     "slide_type": "slide"
    }
   },
   "source": [
    "# MEEF - PSA 2020/2021 - basic informations\n",
    "\n",
    "## Contacts\n",
    "Technician :\n",
    "- Yves Chanteux, yves.chanteux@u-paris.fr\n",
    "\n",
    "Teachers :\n",
    "- Tristan Beau, tristan.beau@u-paris.fr\n",
    "- Matías Tueros, mjtueros@gmail.com\n",
    "\n",
    "## Where and when ?\n",
    "Condorcet building, room 213A, 8:30AM to 10:30AM, on wednesdays.\n",
    "\n",
    "## Calendar\n",
    "- 09/09/20 : *`arduino` course and practice #1*\n",
    "- 09/16/20 : *`arduino` course and practice #2* + definition of groups and project \n",
    "- 09/23/20 : *`python` course and practice #1*\n",
    "- 09/30/20 : *`python` course and practive #2*\n",
    "- 10/07/20 : *project session #1* + written pre-report of the project\n",
    "- 10/14/20 : *project session #2*\n",
    "- 10/21/20 : *project session #3*\n",
    "- 11/04/20 : *project session #4*\n",
    "- 12/02/20 : *project session #5*\n",
    "- 01/06/20 : *final project oral report*\n",
    "\n",
    "## Evaluation\n",
    "Based on the written pre-report and the final oral report.\n"
   ]
  }
 ],
 "metadata": {
  "kernelspec": {
   "display_name": "Python 3",
   "language": "python",
   "name": "python3"
  },
  "language_info": {
   "codemirror_mode": {
    "name": "ipython",
    "version": 3
   },
   "file_extension": ".py",
   "mimetype": "text/x-python",
   "name": "python",
   "nbconvert_exporter": "python",
   "pygments_lexer": "ipython3",
   "version": "3.7.8"
  }
 },
 "nbformat": 4,
 "nbformat_minor": 4
}
