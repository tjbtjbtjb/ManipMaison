{
 "cells": [
  {
   "cell_type": "markdown",
   "metadata": {},
   "source": [
    "# Analyse pendule"
   ]
  },
  {
   "cell_type": "markdown",
   "metadata": {},
   "source": [
    "## Données"
   ]
  },
  {
   "cell_type": "code",
   "execution_count": 36,
   "metadata": {},
   "outputs": [],
   "source": [
    "import numpy as np\n",
    "\n",
    "diametre_boule=7.25e-2            # en m\n",
    "longueur_fil_max=196.2e-2         \n",
    "longueur_fil_min=195.1e-2\n",
    "L=(longueur_fil_max+longueur_fil_min)/2+diametre_boule/2   # longueur du pendule en m\n",
    "Delta_L=(longueur_fil_max-longueur_fil_min)/2/np.sqrt(3)"
   ]
  },
  {
   "cell_type": "code",
   "execution_count": 37,
   "metadata": {},
   "outputs": [],
   "source": [
    "dist_boule=np.array([84,69,56.5,30,14])*1e-2   # en m\n",
    "theta=np.arctan(dist_boule/L)"
   ]
  },
  {
   "cell_type": "code",
   "execution_count": 38,
   "metadata": {},
   "outputs": [],
   "source": [
    "periode=np.array([(43.70-0.91)/15,\n",
    "                  (38.14-1.05)/13,\n",
    "                  (36.25-2.08)/12,\n",
    "                  (42.02-5.23)/13,\n",
    "                  (45.14-2.61)/15\n",
    "                 ])"
   ]
  },
  {
   "cell_type": "markdown",
   "metadata": {},
   "source": [
    "## Tracé de la période en fonction de l'angle initial"
   ]
  },
  {
   "cell_type": "code",
   "execution_count": 39,
   "metadata": {},
   "outputs": [
    {
     "data": {
      "text/plain": [
       "[<matplotlib.lines.Line2D at 0x7f4cb19bd550>]"
      ]
     },
     "execution_count": 39,
     "metadata": {},
     "output_type": "execute_result"
    },
    {
     "data": {
      "image/png": "[encoded data removed]",
      "text/plain": [
       "<matplotlib.figure.Figure at 0x7f4cb1a0d080>"
      ]
     },
     "metadata": {},
     "output_type": "display_data"
    }
   ],
   "source": [
    "import matplotlib.pyplot as plt\n",
    "\n",
    "plt.plot(theta,periode,'*')"
   ]
  },
  {
   "cell_type": "markdown",
   "metadata": {},
   "source": [
    "## Correction de la période"
   ]
  },
  {
   "cell_type": "markdown",
   "metadata": {},
   "source": [
    "Formule approchée de Borda : $T(\\theta)=T_0\\cdot\\left(1+\\frac{\\theta^2}{16}\\right)$"
   ]
  },
  {
   "cell_type": "code",
   "execution_count": 40,
   "metadata": {},
   "outputs": [
    {
     "data": {
      "text/plain": [
       "[<matplotlib.lines.Line2D at 0x7f4cb1993908>,\n",
       " <matplotlib.lines.Line2D at 0x7f4cb1993a90>]"
      ]
     },
     "execution_count": 40,
     "metadata": {},
     "output_type": "execute_result"
    },
    {
     "data": {
      "image/png": "[encoded data removed]",
      "text/plain": [
       "<matplotlib.figure.Figure at 0x7f4cb1a15e48>"
      ]
     },
     "metadata": {},
     "output_type": "display_data"
    }
   ],
   "source": [
    "T0=periode/(1+theta**2/16)\n",
    "\n",
    "plt.plot(theta,periode,'*b',theta,T0,'+r')"
   ]
  },
  {
   "cell_type": "code",
   "execution_count": 41,
   "metadata": {},
   "outputs": [
    {
     "name": "stdout",
     "output_type": "stream",
     "text": [
      "0.009385709618146118 0.0042685645186388435\n"
     ]
    }
   ],
   "source": [
    "print(np.std(periode),np.std(T0))"
   ]
  },
  {
   "cell_type": "code",
   "execution_count": 42,
   "metadata": {},
   "outputs": [],
   "source": [
    "T0_moy=np.mean(T0)\n",
    "Delta_T0=np.std(T0)/np.sqrt(np.size(T0))"
   ]
  },
  {
   "cell_type": "code",
   "execution_count": 43,
   "metadata": {},
   "outputs": [
    {
     "name": "stdout",
     "output_type": "stream",
     "text": [
      "2.830494246446969 0.0019089600860040243\n"
     ]
    }
   ],
   "source": [
    "print(T0_moy,Delta_T0)"
   ]
  },
  {
   "cell_type": "markdown",
   "metadata": {},
   "source": [
    "## Mesure de g"
   ]
  },
  {
   "cell_type": "markdown",
   "metadata": {},
   "source": [
    "$$g=4\\pi^2\\frac{L}{T_0^2}$$\n",
    "$$\\frac{\\Delta g}{g}=\\sqrt{\\left(\\frac{\\Delta L}{L}\\right)^2+\\left(\\frac{2\\Delta T_0}{T_0}\\right)^2}$$"
   ]
  },
  {
   "cell_type": "code",
   "execution_count": 44,
   "metadata": {},
   "outputs": [],
   "source": [
    "g=4*np.pi**2*L/T0_moy**2\n",
    "Delta_g=g*np.sqrt((Delta_L/L)**2+(2*Delta_T0/T0_moy)**2)"
   ]
  },
  {
   "cell_type": "code",
   "execution_count": 45,
   "metadata": {},
   "outputs": [
    {
     "name": "stdout",
     "output_type": "stream",
     "text": [
      "9.819468960446269 0.020500392019501323\n"
     ]
    }
   ],
   "source": [
    "print(g,Delta_g)"
   ]
  },
  {
   "cell_type": "markdown",
   "metadata": {},
   "source": [
    "Soit $$g=9,819±0,021\\;\\textrm{m}\\cdot\\textrm{s}^{-2}$$"
   ]
  },
  {
   "cell_type": "code",
   "execution_count": null,
   "metadata": {},
   "outputs": [],
   "source": []
  }
 ],
 "metadata": {
  "kernelspec": {
   "display_name": "Python 3",
   "language": "python",
   "name": "python3"
  },
  "language_info": {
   "codemirror_mode": {
    "name": "ipython",
    "version": 3
   },
   "file_extension": ".py",
   "mimetype": "text/x-python",
   "name": "python",
   "nbconvert_exporter": "python",
   "pygments_lexer": "ipython3",
   "version": "3.6.9"
  }
 },
 "nbformat": 4,
 "nbformat_minor": 2
}
